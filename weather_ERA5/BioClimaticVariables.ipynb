{
 "cells": [
  {
   "cell_type": "code",
   "execution_count": 84,
   "metadata": {},
   "outputs": [],
   "source": [
    "import os\n",
    "from osgeo import gdal, osr\n",
    "import numpy as np\n",
    "from osgeo.gdalconst import GDT_Float32"
   ]
  },
  {
   "cell_type": "code",
   "execution_count": 123,
   "metadata": {},
   "outputs": [],
   "source": [
    "input_file = '../bioclim2000-10/wc2.1_2.5m_2000_1.grd'\n",
    "output_file = '../bioclim2000-10/wc2.1_2.5m_2000_1.tiff'\n",
    "output_file_asc = '../bioclim2000-10/wc2.1_2.5m_2000_1.asc'\n",
    "\n",
    "from osgeo import gdal, osr\n",
    "def translate_to_tiff(input_file, output_file):\n",
    "    \"\"\"\n",
    "    Function to convert data from asc, grd format to GeoTiff\n",
    "    \"\"\"\n",
    "    drv = gdal.GetDriverByName('GTiff')\n",
    "    ds_in = gdal.Open(input_file)\n",
    "    ds_out = drv.CreateCopy(output_file, ds_in)\n",
    "    srs = osr.SpatialReference()\n",
    "    srs.ImportFromEPSG(4326)\n",
    "    ds_out.SetProjection(srs.ExportToWkt())\n",
    "    matrix = ds_in.ReadAsArray()\n",
    "    ds_in = None\n",
    "    ds_out = None\n",
    "    return matrix\n",
    "\n",
    "def bioclim_values_to_tiff(input_file, output_file, values):\n",
    "    in_data, out_data = None, None\n",
    "    in_data = gdal.Open(input_file)\n",
    "    if in_data is None:\n",
    "        print ('Unable to open %s' % raster_input)\n",
    "        return None\n",
    "\n",
    "    # read in data from first band of input raster\n",
    "    band1 = in_data.GetRasterBand(1)\n",
    "    rows = in_data.RasterYSize\n",
    "    cols = in_data.RasterXSize\n",
    "    vals = band1.ReadAsArray(0, 0, cols, rows)\n",
    "\n",
    "    driver = in_data.GetDriver()\n",
    "    number_of_bands = values.shape[0]\n",
    "    out_data = driver.Create(output_file, cols, rows, number_of_bands, GDT_Float32)\n",
    "    for i in range(number_of_bands):\n",
    "        out_band = out_data.GetRasterBand(i+1)\n",
    "        out_band.WriteArray(values[i, :, :])\n",
    "    out_band.FlushCache()\n",
    "    out_band.SetNoDataValue(-32767.)\n",
    "\n",
    "    out_data.SetGeoTransform(in_data.GetGeoTransform())\n",
    "    out_data.SetProjection(in_data.GetProjection())\n",
    "    del out_data\n",
    "    return output_file\n",
    "def bioclim_values_to_separate_tiff(input_file, output_file, values):\n",
    "    in_data, out_data = None, None\n",
    "    in_data = gdal.Open(input_file)\n",
    "    if in_data is None:\n",
    "        print ('Unable to open %s' % raster_input)\n",
    "        return None\n",
    "\n",
    "    # read in data from first band of input raster\n",
    "    band1 = in_data.GetRasterBand(1)\n",
    "    rows = in_data.RasterYSize\n",
    "    cols = in_data.RasterXSize\n",
    "    vals = band1.ReadAsArray(0, 0, cols, rows)\n",
    "\n",
    "    driver = in_data.GetDriver()\n",
    "    out_data = driver.Create(output_file, cols, rows, 1, GDT_Float32)\n",
    "\n",
    "    out_band = out_data.GetRasterBand(1)\n",
    "    out_band.WriteArray(values)\n",
    "    out_band.FlushCache()\n",
    "    out_band.SetNoDataValue(-32767.)\n",
    "\n",
    "    out_data.SetGeoTransform(in_data.GetGeoTransform())\n",
    "    out_data.SetProjection(in_data.GetProjection())\n",
    "    del out_data\n",
    "    return output_file\n",
    "\n"
   ]
  },
  {
   "cell_type": "code",
   "execution_count": 124,
   "metadata": {},
   "outputs": [
    {
     "name": "stderr",
     "output_type": "stream",
     "text": [
      "/Users/mikhailgasanov/opt/anaconda3/envs/maxvol_soil_sampling/lib/python3.6/site-packages/ipykernel_launcher.py:13: RuntimeWarning: Mean of empty slice\n",
      "  del sys.path[0]\n"
     ]
    }
   ],
   "source": [
    "grd_files = [file for file in os.listdir('../bioclim2000-10/') if '.grd' in file]\n",
    "list_of_matrix = []\n",
    "for file in grd_files:\n",
    "    input_file_grd = os.path.join('../bioclim2000-10', file)\n",
    "    output_file_tiff = os.path.join('../bioclim2000-10',\\\n",
    "                               os.path.splitext(file)[0]+'.tiff')\n",
    "    m = translate_to_tiff(input_file_grd, output_file_tiff)\n",
    "    list_of_matrix.append(m)\n",
    "    \n",
    "    \n",
    "\n",
    "# compute mean without nan values along 0 axis\n",
    "mean_bioclim = np.nanmean(list_of_matrix, axis=0)"
   ]
  },
  {
   "cell_type": "code",
   "execution_count": 125,
   "metadata": {},
   "outputs": [],
   "source": [
    "output_bioclim_mean = os.path.join('../bioclim2000-10/', 'bioclim_mean.tiff')\n",
    "# save mean_bioclim as GeoTiff - all bands\n",
    "out_file = bioclim_values_to_tiff(input_file=output_file_tiff, \\\n",
    "                                  output_file=output_bioclim_mean, \\\n",
    "                                  values = mean_bioclim)\n"
   ]
  },
  {
   "cell_type": "code",
   "execution_count": 126,
   "metadata": {},
   "outputs": [],
   "source": [
    "# Save biolimatic variables as separated GeoTiff files\n",
    "for index, bioclim in enumerate(mean_bioclim):\n",
    "    data_to_tiff = mean_bioclim[index, :,:]\n",
    "    output_bioclim_mean = os.path.join('../bioclim2000-10/', f'bioclim_mean_{index}.tiff')\n",
    "    out_file = bioclim_values_to_separate_tiff(input_file=output_file_tiff, \\\n",
    "                                  output_file=output_bioclim_mean, \\\n",
    "                                  values = data_to_tiff)"
   ]
  },
  {
   "cell_type": "code",
   "execution_count": 127,
   "metadata": {},
   "outputs": [],
   "source": [
    "# translate GeoTiff to ASCII\n",
    "for index in range(19):\n",
    "    asc_file = os.path.join('../bioclim2000-10', f'bioclim_mean_{index}.asc')\n",
    "    tiff_file = os.path.join('../bioclim2000-10', f'bioclim_mean_{index}.tiff')\n",
    "    ds = gdal.Open(tiff_file)\n",
    "    ds = gdal.Translate(asc_file, ds)\n",
    "    ds = None"
   ]
  },
  {
   "cell_type": "code",
   "execution_count": 128,
   "metadata": {},
   "outputs": [
    {
     "name": "stdout",
     "output_type": "stream",
     "text": [
      "bioclim_mean_10.asc\n",
      "bioclim_mean_9.asc.aux.xml\n",
      "bioclim_mean_11.asc\n",
      "bioclim_mean_13.asc\n",
      "bioclim_mean_17.asc.aux.xml\n",
      "bioclim_mean_8.asc\n",
      "bioclim_mean_9.asc\n",
      "bioclim_mean_0.asc.aux.xml\n",
      "bioclim_mean_12.asc\n",
      "bioclim_mean_16.asc\n",
      "bioclim_mean_12.asc.aux.xml\n",
      "bioclim_mean_5.asc.aux.xml\n",
      "bioclim_mean_17.asc\n",
      "bioclim_mean_15.asc\n",
      "bioclim_mean_14.asc\n",
      "bioclim_mean_18.asc.aux.xml\n",
      "bioclim_mean_6.asc.aux.xml\n",
      "bioclim_mean_11.asc.aux.xml\n",
      "bioclim_mean_3.asc.aux.xml\n",
      "bioclim_mean_14.asc.aux.xml\n",
      "bioclim_mean_4.asc.aux.xml\n",
      "bioclim_mean_13.asc.aux.xml\n",
      "bioclim_mean_1.asc.aux.xml\n",
      "bioclim_mean_16.asc.aux.xml\n",
      "bioclim_mean_8.asc.aux.xml\n",
      "bioclim_mean_2.asc\n",
      "bioclim_mean_3.asc\n",
      "bioclim_mean_18.asc\n",
      "bioclim_mean_15.asc.aux.xml\n",
      "bioclim_mean_1.asc\n",
      "bioclim_mean_0.asc\n",
      "bioclim_mean_2.asc.aux.xml\n",
      "bioclim_mean_10.asc.aux.xml\n",
      "bioclim_mean_4.asc\n",
      "bioclim_mean_5.asc\n",
      "bioclim_mean_7.asc.aux.xml\n",
      "bioclim_mean_7.asc\n",
      "bioclim_mean_6.asc\n"
     ]
    }
   ],
   "source": [
    "# asc files\n",
    "asc_files=[]\n",
    "for file in os.listdir('../bioclim2000-10/'):\n",
    "    if 'asc' in file:\n",
    "        print(file)\n",
    "        asc_files.append(file)"
   ]
  },
  {
   "cell_type": "code",
   "execution_count": 129,
   "metadata": {},
   "outputs": [],
   "source": [
    "os.makedirs(os.path.join('..', 'bioclim2000-10', 'asc_files'))"
   ]
  },
  {
   "cell_type": "code",
   "execution_count": 130,
   "metadata": {},
   "outputs": [],
   "source": [
    "import shutil"
   ]
  },
  {
   "cell_type": "code",
   "execution_count": 133,
   "metadata": {},
   "outputs": [],
   "source": [
    "# copy all file into separate folder\n",
    "!cp ../bioclim2000-10/*.asc* ../bioclim2000-10/asc_files/"
   ]
  },
  {
   "cell_type": "code",
   "execution_count": 135,
   "metadata": {},
   "outputs": [
    {
     "data": {
      "text/plain": [
       "'/Users/mikhailgasanov/Documents/GIT/herscleum_sosnowskyi/bioclim2000-10/asc_bioclim_files.zip'"
      ]
     },
     "execution_count": 135,
     "metadata": {},
     "output_type": "execute_result"
    }
   ],
   "source": [
    "shutil.make_archive('../bioclim2000-10/asc_bioclim_files', 'zip', '../bioclim2000-10/asc_files/')"
   ]
  },
  {
   "cell_type": "code",
   "execution_count": null,
   "metadata": {},
   "outputs": [],
   "source": []
  }
 ],
 "metadata": {
  "kernelspec": {
   "display_name": "Python 3",
   "language": "python",
   "name": "python3"
  },
  "language_info": {
   "codemirror_mode": {
    "name": "ipython",
    "version": 3
   },
   "file_extension": ".py",
   "mimetype": "text/x-python",
   "name": "python",
   "nbconvert_exporter": "python",
   "pygments_lexer": "ipython3",
   "version": "3.6.11"
  }
 },
 "nbformat": 4,
 "nbformat_minor": 4
}
