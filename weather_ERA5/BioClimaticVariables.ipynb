{
 "cells": [
  {
   "cell_type": "code",
   "execution_count": 1,
   "metadata": {},
   "outputs": [],
   "source": [
    "import os\n",
    "from osgeo import gdal, osr\n",
    "import numpy as np\n",
    "from osgeo.gdalconst import GDT_Float32"
   ]
  },
  {
   "cell_type": "code",
   "execution_count": 2,
   "metadata": {},
   "outputs": [],
   "source": [
    "# input_file = '../bioclim2000-10/wc2.1_2.5m_2000_1.grd'\n",
    "# output_file = '../bioclim2000-10/wc2.1_2.5m_2000_1.tiff'\n",
    "# output_file_asc = '../bioclim2000-10/wc2.1_2.5m_2000_1.asc'\n",
    "\n",
    "def translate_to_tiff(input_file, output_file):\n",
    "    \"\"\"\n",
    "    Function to convert data from asc, grd format to GeoTiff\n",
    "    \"\"\"\n",
    "    drv = gdal.GetDriverByName('GTiff')\n",
    "    ds_in = gdal.Open(input_file)\n",
    "    ds_out = drv.CreateCopy(output_file, ds_in)\n",
    "    srs = osr.SpatialReference()\n",
    "    srs.ImportFromEPSG(4326)\n",
    "    ds_out.SetProjection(srs.ExportToWkt())\n",
    "    matrix = ds_in.ReadAsArray()\n",
    "    ds_in = None\n",
    "    ds_out = None\n",
    "    return matrix\n",
    "\n",
    "def bioclim_values_to_tiff(input_file, output_file, values):\n",
    "    in_data, out_data = None, None\n",
    "    in_data = gdal.Open(input_file)\n",
    "    if in_data is None:\n",
    "        print ('Unable to open %s' % raster_input)\n",
    "        return None\n",
    "\n",
    "    # read in data from first band of input raster\n",
    "    band1 = in_data.GetRasterBand(1)\n",
    "    rows = in_data.RasterYSize\n",
    "    cols = in_data.RasterXSize\n",
    "    vals = band1.ReadAsArray(0, 0, cols, rows)\n",
    "\n",
    "    driver = in_data.GetDriver()\n",
    "    number_of_bands = values.shape[0]\n",
    "    out_data = driver.Create(output_file, cols, rows, number_of_bands, GDT_Float32)\n",
    "    for i in range(number_of_bands):\n",
    "        out_band = out_data.GetRasterBand(i+1)\n",
    "        out_band.WriteArray(values[i, :, :])\n",
    "    out_band.FlushCache()\n",
    "    out_band.SetNoDataValue(-32767.)\n",
    "\n",
    "    out_data.SetGeoTransform(in_data.GetGeoTransform())\n",
    "    out_data.SetProjection(in_data.GetProjection())\n",
    "    del out_data\n",
    "    return output_file\n",
    "def bioclim_values_to_separate_tiff(input_file, output_file, values):\n",
    "    in_data, out_data = None, None\n",
    "    in_data = gdal.Open(input_file)\n",
    "    if in_data is None:\n",
    "        print ('Unable to open %s' % raster_input)\n",
    "        return None\n",
    "\n",
    "    # read in data from first band of input raster\n",
    "    band1 = in_data.GetRasterBand(1)\n",
    "    rows = in_data.RasterYSize\n",
    "    cols = in_data.RasterXSize\n",
    "    vals = band1.ReadAsArray(0, 0, cols, rows)\n",
    "\n",
    "    driver = in_data.GetDriver()\n",
    "    out_data = driver.Create(output_file, cols, rows, 1, GDT_Float32)\n",
    "\n",
    "    out_band = out_data.GetRasterBand(1)\n",
    "    out_band.WriteArray(values)\n",
    "    out_band.FlushCache()\n",
    "    out_band.SetNoDataValue(-32767.)\n",
    "\n",
    "    out_data.SetGeoTransform(in_data.GetGeoTransform())\n",
    "    out_data.SetProjection(in_data.GetProjection())\n",
    "    del out_data\n",
    "    return output_file\n",
    "\n"
   ]
  },
  {
   "cell_type": "code",
   "execution_count": 3,
   "metadata": {},
   "outputs": [],
   "source": [
    "grd_files = [file for file in os.listdir('../bioclim/') if '.grd' in file]"
   ]
  },
  {
   "cell_type": "code",
   "execution_count": 4,
   "metadata": {},
   "outputs": [
    {
     "data": {
      "text/plain": [
       "['wc2.1_2.5m_2006_1.grd',\n",
       " 'wc2.1_2.5m_2004_1.grd',\n",
       " 'wc2.1_2.5m_2000_1.grd',\n",
       " 'wc2.1_2.5m_2002_1.grd',\n",
       " 'wc2.1_2.5m_2005_1.grd',\n",
       " 'wc2.1_2.5m_2007_1.grd',\n",
       " 'wc2.1_2.5m_2003_1.grd',\n",
       " 'wc2.1_2.5m_2018_1.grd',\n",
       " 'wc2.1_2.5m_2001_1.grd',\n",
       " 'wc2.1_2.5m_2014_1.grd',\n",
       " 'wc2.1_2.5m_2016_1.grd',\n",
       " 'wc2.1_2.5m_2012_1.grd',\n",
       " 'wc2.1_2.5m_2010_1.grd',\n",
       " 'wc2.1_2.5m_2009_1.grd',\n",
       " 'wc2.1_2.5m_2017_1.grd',\n",
       " 'wc2.1_2.5m_2015_1.grd',\n",
       " 'wc2.1_2.5m_2011_1.grd',\n",
       " 'wc2.1_2.5m_2008_1.grd',\n",
       " 'wc2.1_2.5m_2013_1.grd']"
      ]
     },
     "execution_count": 4,
     "metadata": {},
     "output_type": "execute_result"
    }
   ],
   "source": [
    "grd_files"
   ]
  },
  {
   "cell_type": "code",
   "execution_count": 5,
   "metadata": {},
   "outputs": [
    {
     "name": "stderr",
     "output_type": "stream",
     "text": [
      "/Users/mikhailgasanov/opt/anaconda3/envs/maxvol_soil_sampling/lib/python3.6/site-packages/ipykernel_launcher.py:13: RuntimeWarning: Mean of empty slice\n",
      "  del sys.path[0]\n"
     ]
    }
   ],
   "source": [
    "grd_files = [file for file in os.listdir('../bioclim/') if '.grd' in file]\n",
    "list_of_matrix = []\n",
    "for file in grd_files:\n",
    "    input_file_grd = os.path.join('../bioclim', file)\n",
    "    output_file_tiff = os.path.join('../bioclim',\\\n",
    "                               os.path.splitext(file)[0]+'.tiff')\n",
    "    m = translate_to_tiff(input_file_grd, output_file_tiff)\n",
    "    list_of_matrix.append(m)\n",
    "    \n",
    "    \n",
    "\n",
    "# compute mean without nan values along 0 axis\n",
    "mean_bioclim = np.nanmean(list_of_matrix, axis=0)"
   ]
  },
  {
   "cell_type": "code",
   "execution_count": 6,
   "metadata": {},
   "outputs": [
    {
     "name": "stdout",
     "output_type": "stream",
     "text": [
      "0 (19, 768, 1320)\n",
      "1 (19, 768, 1320)\n",
      "2 (19, 768, 1320)\n",
      "3 (19, 768, 1320)\n",
      "4 (19, 768, 1320)\n",
      "5 (19, 768, 1320)\n",
      "6 (19, 768, 1320)\n",
      "7 (19, 768, 1320)\n",
      "8 (19, 768, 1320)\n",
      "9 (19, 768, 1320)\n",
      "10 (19, 768, 1320)\n",
      "11 (19, 768, 1320)\n",
      "12 (19, 768, 1320)\n",
      "13 (19, 768, 1320)\n",
      "14 (19, 768, 1320)\n",
      "15 (19, 768, 1320)\n",
      "16 (19, 768, 1320)\n",
      "17 (19, 768, 1320)\n",
      "18 (19, 768, 1320)\n"
     ]
    }
   ],
   "source": [
    "for index,matrix in enumerate(list_of_matrix):\n",
    "    print(index, matrix.shape)"
   ]
  },
  {
   "cell_type": "code",
   "execution_count": 7,
   "metadata": {},
   "outputs": [],
   "source": [
    "output_bioclim_mean = os.path.join('../bioclim/', 'bioclim_mean.tiff')\n",
    "# save mean_bioclim as GeoTiff - all bands\n",
    "out_file = bioclim_values_to_tiff(input_file=output_file_tiff, \\\n",
    "                                  output_file=output_bioclim_mean, \\\n",
    "                                  values = mean_bioclim)\n"
   ]
  },
  {
   "cell_type": "code",
   "execution_count": 8,
   "metadata": {},
   "outputs": [],
   "source": [
    "# Save biolimatic variables as separated GeoTiff files\n",
    "for index, bioclim in enumerate(mean_bioclim):\n",
    "    data_to_tiff = mean_bioclim[index, :,:]\n",
    "    output_bioclim_mean = os.path.join('../bioclim/', f'bioclim_mean_{index+1}.tiff')\n",
    "    out_file = bioclim_values_to_separate_tiff(input_file=output_file_tiff, \\\n",
    "                                  output_file=output_bioclim_mean, \\\n",
    "                                  values = data_to_tiff)"
   ]
  },
  {
   "cell_type": "code",
   "execution_count": 10,
   "metadata": {},
   "outputs": [],
   "source": [
    "# translate GeoTiff to ASCII\n",
    "for index in range(19):\n",
    "    asc_file = os.path.join('../bioclim', f'bioclim_mean_{index+1}.asc')\n",
    "    tiff_file = os.path.join('../bioclim', f'bioclim_mean_{index+1}.tiff')\n",
    "    ds = gdal.Open(tiff_file)\n",
    "    ds = gdal.Translate(asc_file, ds)\n",
    "    ds = None"
   ]
  },
  {
   "cell_type": "code",
   "execution_count": 12,
   "metadata": {},
   "outputs": [
    {
     "name": "stdout",
     "output_type": "stream",
     "text": [
      "bioclim_mean_10.asc\n",
      "bioclim_mean_9.asc.aux.xml\n",
      "bioclim_mean_11.asc\n",
      "bioclim_mean_13.asc\n",
      "bioclim_mean_17.asc.aux.xml\n",
      "bioclim_mean_8.asc\n",
      "bioclim_mean_9.asc\n",
      "bioclim_mean_12.asc\n",
      "bioclim_mean_16.asc\n",
      "bioclim_mean_12.asc.aux.xml\n",
      "bioclim_mean_5.asc.aux.xml\n",
      "bioclim_mean_17.asc\n",
      "bioclim_mean_15.asc\n",
      "bioclim_mean_14.asc\n",
      "bioclim_mean_18.asc.aux.xml\n",
      "bioclim_mean_6.asc.aux.xml\n",
      "bioclim_mean_11.asc.aux.xml\n",
      "bioclim_mean_3.asc.aux.xml\n",
      "bioclim_mean_14.asc.aux.xml\n",
      "bioclim_mean_4.asc.aux.xml\n",
      "bioclim_mean_13.asc.aux.xml\n",
      "bioclim_mean_1.asc.aux.xml\n",
      "bioclim_mean_16.asc.aux.xml\n",
      "bioclim_mean_8.asc.aux.xml\n",
      "bioclim_mean_19.asc\n",
      "bioclim_mean_2.asc\n",
      "bioclim_mean_3.asc\n",
      "bioclim_mean_18.asc\n",
      "bioclim_mean_15.asc.aux.xml\n",
      "bioclim_mean_1.asc\n",
      "bioclim_mean_2.asc.aux.xml\n",
      "bioclim_mean_10.asc.aux.xml\n",
      "bioclim_mean_4.asc\n",
      "bioclim_mean_5.asc\n",
      "bioclim_mean_7.asc.aux.xml\n",
      "bioclim_mean_19.asc.aux.xml\n",
      "bioclim_mean_7.asc\n",
      "bioclim_mean_6.asc\n"
     ]
    }
   ],
   "source": [
    "# asc files\n",
    "asc_files=[]\n",
    "for file in os.listdir('../bioclim/'):\n",
    "    if 'asc' in file:\n",
    "        print(file)\n",
    "        asc_files.append(file)"
   ]
  },
  {
   "cell_type": "code",
   "execution_count": 13,
   "metadata": {},
   "outputs": [],
   "source": [
    "os.makedirs(os.path.join('..', 'bioclim', 'asc_files'))"
   ]
  },
  {
   "cell_type": "code",
   "execution_count": 16,
   "metadata": {},
   "outputs": [],
   "source": [
    "import shutil"
   ]
  },
  {
   "cell_type": "code",
   "execution_count": 14,
   "metadata": {},
   "outputs": [],
   "source": [
    "# copy all file into separate folder\n",
    "!cp ../bioclim/*.asc* ../bioclim/asc_files/"
   ]
  },
  {
   "cell_type": "code",
   "execution_count": 17,
   "metadata": {},
   "outputs": [
    {
     "data": {
      "text/plain": [
       "'/Users/mikhailgasanov/Documents/GIT/herscleum_sosnowskyi/bioclim/asc_bioclim_files.zip'"
      ]
     },
     "execution_count": 17,
     "metadata": {},
     "output_type": "execute_result"
    }
   ],
   "source": [
    "shutil.make_archive('../bioclim/asc_bioclim_files', 'zip', '../bioclim/asc_files/')"
   ]
  },
  {
   "cell_type": "code",
   "execution_count": 20,
   "metadata": {},
   "outputs": [
    {
     "data": {
      "text/plain": [
       "<AxesSubplot:ylabel='Count'>"
      ]
     },
     "execution_count": 20,
     "metadata": {},
     "output_type": "execute_result"
    },
    {
     "data": {
      "image/png": "[encoded data removed]",
      "text/plain": [
       "<Figure size 432x288 with 1 Axes>"
      ]
     },
     "metadata": {
      "needs_background": "light"
     },
     "output_type": "display_data"
    }
   ],
   "source": [
    "import seaborn as sns\n",
    "sns.histplot(mean_bioclim[0,:,:].flatten())"
   ]
  },
  {
   "cell_type": "code",
   "execution_count": 27,
   "metadata": {},
   "outputs": [],
   "source": [
    "src_2019 = gdal.Open('../bioclim2010-20/wc2.1_2.5m_2019_1.grd').ReadAsArray()\n",
    "src_2020 = gdal.Open('../bioclim2010-20/wc2.1_2.5m_2020_1.grd').ReadAsArray()"
   ]
  },
  {
   "cell_type": "code",
   "execution_count": 30,
   "metadata": {},
   "outputs": [
    {
     "data": {
      "text/plain": [
       "<AxesSubplot:ylabel='Count'>"
      ]
     },
     "execution_count": 30,
     "metadata": {},
     "output_type": "execute_result"
    },
    {
     "data": {
      "image/png": "[encoded data removed]",
      "text/plain": [
       "<Figure size 432x288 with 1 Axes>"
      ]
     },
     "metadata": {
      "needs_background": "light"
     },
     "output_type": "display_data"
    }
   ],
   "source": [
    "sns.histplot(src_2019[0, :, :].flatten()-273.15)\n",
    "sns.histplot(src_2020[0, :, :].flatten()-273.15, label='2020', color='r' )"
   ]
  },
  {
   "cell_type": "code",
   "execution_count": null,
   "metadata": {},
   "outputs": [],
   "source": [
    "sns.histplot(src_2019[0, :, :].flatten()-273.15)"
   ]
  },
  {
   "cell_type": "code",
   "execution_count": null,
   "metadata": {},
   "outputs": [],
   "source": []
  },
  {
   "cell_type": "code",
   "execution_count": 33,
   "metadata": {},
   "outputs": [],
   "source": [
    "src = gdal.Open('../bioclim/merged.tif')"
   ]
  },
  {
   "cell_type": "code",
   "execution_count": 34,
   "metadata": {},
   "outputs": [],
   "source": [
    "matrix = src.ReadAsArray()"
   ]
  },
  {
   "cell_type": "code",
   "execution_count": 35,
   "metadata": {},
   "outputs": [],
   "source": [
    "reshaped = matrix.reshape(21,19,800,1375)"
   ]
  },
  {
   "cell_type": "code",
   "execution_count": 42,
   "metadata": {},
   "outputs": [
    {
     "data": {
      "text/plain": [
       "-64.078384"
      ]
     },
     "execution_count": 42,
     "metadata": {},
     "output_type": "execute_result"
    }
   ],
   "source": [
    "np.nanmean(reshaped[-1,0,...] - 273.15)"
   ]
  },
  {
   "cell_type": "code",
   "execution_count": 43,
   "metadata": {},
   "outputs": [
    {
     "data": {
      "text/plain": [
       "(800, 1375)"
      ]
     },
     "execution_count": 43,
     "metadata": {},
     "output_type": "execute_result"
    }
   ],
   "source": [
    "reshaped[-1,0,...].shape"
   ]
  },
  {
   "cell_type": "code",
   "execution_count": null,
   "metadata": {},
   "outputs": [],
   "source": [
    "np.nanmean(reshaped[-1,...])"
   ]
  },
  {
   "cell_type": "code",
   "execution_count": 208,
   "metadata": {},
   "outputs": [
    {
     "name": "stderr",
     "output_type": "stream",
     "text": [
      "/Users/mikhailgasanov/opt/anaconda3/envs/maxvol_soil_sampling/lib/python3.6/site-packages/ipykernel_launcher.py:2: RuntimeWarning: Mean of empty slice\n",
      "  \n"
     ]
    }
   ],
   "source": [
    "reshaped = matrix.reshape(21,19,800,1375)\n",
    "reshaped = reshaped[]\n",
    "reshaped_mean = np.nanmean(reshaped, axis=0)"
   ]
  },
  {
   "cell_type": "code",
   "execution_count": 209,
   "metadata": {},
   "outputs": [
    {
     "data": {
      "text/plain": [
       "(19, 800, 1375)"
      ]
     },
     "execution_count": 209,
     "metadata": {},
     "output_type": "execute_result"
    }
   ],
   "source": [
    "reshaped_mean.shape\n"
   ]
  },
  {
   "cell_type": "code",
   "execution_count": 215,
   "metadata": {},
   "outputs": [],
   "source": [
    "path_to_folder = '../bioclim/'\n",
    "file = 'wc2.1_2.5m_2000_1.grd'\n",
    "input_file_grd = os.path.join(path_to_folder, file)\n",
    "output_file_tiff = os.path.join(path_to_folder,\\\n",
    "                           os.path.splitext(file)[0]+'.tiff')\n",
    "m = translate_to_tiff(input_file_grd, output_file_tiff)\n"
   ]
  },
  {
   "cell_type": "code",
   "execution_count": 218,
   "metadata": {},
   "outputs": [],
   "source": [
    "output_file_tiff = os.path.join(path_to_folder, 'merged.tif')"
   ]
  },
  {
   "cell_type": "code",
   "execution_count": 32,
   "metadata": {},
   "outputs": [
    {
     "ename": "NameError",
     "evalue": "name 'reshaped_mean' is not defined",
     "output_type": "error",
     "traceback": [
      "\u001b[0;31m---------------------------------------------------------------------------\u001b[0m",
      "\u001b[0;31mNameError\u001b[0m                                 Traceback (most recent call last)",
      "\u001b[0;32m<ipython-input-32-a7d18ab98450>\u001b[0m in \u001b[0;36m<module>\u001b[0;34m\u001b[0m\n\u001b[0;32m----> 1\u001b[0;31m \u001b[0mreshaped_mean\u001b[0m\u001b[0;34m\u001b[0m\u001b[0;34m\u001b[0m\u001b[0m\n\u001b[0m",
      "\u001b[0;31mNameError\u001b[0m: name 'reshaped_mean' is not defined"
     ]
    }
   ],
   "source": [
    "reshaped_mean"
   ]
  },
  {
   "cell_type": "code",
   "execution_count": 224,
   "metadata": {},
   "outputs": [],
   "source": [
    "# Save biolimatic variables as separated GeoTiff files\n",
    "path_to_folder = '../bioclim/'\n",
    "for index, bioclim in enumerate(reshaped_mean):\n",
    "    if index == \n",
    "    data_to_tiff = reshaped_mean[index, :,:]\n",
    "    output_bioclim_mean = os.path.join(path_to_folder, f'bioclim_mean_{index}.tiff')\n",
    "    out_file = bioclim_values_to_separate_tiff(input_file=output_file_tiff, \\\n",
    "                                  output_file=output_bioclim_mean, \\\n",
    "                                  values = data_to_tiff)\n",
    "    asc_file = os.path.join(path_to_folder, f'bioclim_mean_{index+1}.asc')\n",
    "#     tiff_file = os.path.join(path_to_folder, f'bioclim_mean_{index}.tiff')\n",
    "    ds = gdal.Open(output_bioclim_mean)\n",
    "    ds = gdal.Translate(asc_file, ds)\n",
    "    ds = None"
   ]
  },
  {
   "cell_type": "code",
   "execution_count": 221,
   "metadata": {},
   "outputs": [],
   "source": [
    "os.makedirs(os.path.join('..', 'bioclim', 'asc_files'))"
   ]
  },
  {
   "cell_type": "code",
   "execution_count": 228,
   "metadata": {},
   "outputs": [],
   "source": [
    "!cp ../bioclim/*.asc* ../bioclim/asc_files/"
   ]
  },
  {
   "cell_type": "code",
   "execution_count": 229,
   "metadata": {},
   "outputs": [
    {
     "data": {
      "text/plain": [
       "'/Users/mikhailgasanov/Documents/GIT/herscleum_sosnowskyi/bioclim/asc_bioclim_files.zip'"
      ]
     },
     "execution_count": 229,
     "metadata": {},
     "output_type": "execute_result"
    }
   ],
   "source": [
    "shutil.make_archive('../bioclim/asc_bioclim_files', 'zip', '../bioclim/asc_files/')"
   ]
  },
  {
   "cell_type": "code",
   "execution_count": 230,
   "metadata": {},
   "outputs": [
    {
     "name": "stdout",
     "output_type": "stream",
     "text": [
      "asc_bioclim_files.zip\r\n"
     ]
    }
   ],
   "source": [
    "!ls ../bioclim | grep zip"
   ]
  },
  {
   "cell_type": "code",
   "execution_count": null,
   "metadata": {},
   "outputs": [],
   "source": []
  },
  {
   "cell_type": "code",
   "execution_count": null,
   "metadata": {},
   "outputs": [],
   "source": []
  },
  {
   "cell_type": "code",
   "execution_count": null,
   "metadata": {},
   "outputs": [],
   "source": []
  },
  {
   "cell_type": "code",
   "execution_count": null,
   "metadata": {},
   "outputs": [],
   "source": []
  },
  {
   "cell_type": "code",
   "execution_count": 195,
   "metadata": {},
   "outputs": [],
   "source": [
    "bioclim_1 = gdal.Open('../bioclim2000-10/asc_files/bioclim_mean_1.asc').ReadAsArray()"
   ]
  },
  {
   "cell_type": "code",
   "execution_count": 192,
   "metadata": {},
   "outputs": [],
   "source": [
    "import seaborn as sns"
   ]
  },
  {
   "cell_type": "code",
   "execution_count": 210,
   "metadata": {},
   "outputs": [
    {
     "data": {
      "text/plain": [
       "<AxesSubplot:ylabel='Density'>"
      ]
     },
     "execution_count": 210,
     "metadata": {},
     "output_type": "execute_result"
    },
    {
     "data": {
      "image/png": "[encoded data removed]",
      "text/plain": [
       "<Figure size 432x288 with 1 Axes>"
      ]
     },
     "metadata": {
      "needs_background": "light"
     },
     "output_type": "display_data"
    }
   ],
   "source": [
    "sns.kdeplot(data=reshaped_mean[1,:,:].flatten())"
   ]
  },
  {
   "cell_type": "code",
   "execution_count": 199,
   "metadata": {},
   "outputs": [
    {
     "data": {
      "text/plain": [
       "<AxesSubplot:ylabel='Density'>"
      ]
     },
     "execution_count": 199,
     "metadata": {},
     "output_type": "execute_result"
    },
    {
     "data": {
      "image/png": "[encoded data removed]",
      "text/plain": [
       "<Figure size 432x288 with 1 Axes>"
      ]
     },
     "metadata": {
      "needs_background": "light"
     },
     "output_type": "display_data"
    }
   ],
   "source": [
    "sns.kdeplot(bioclim_1.flatten())"
   ]
  },
  {
   "cell_type": "code",
   "execution_count": 211,
   "metadata": {},
   "outputs": [
    {
     "data": {
      "text/plain": [
       "<osgeo.gdal.Dataset; proxy of <Swig Object of type 'GDALDatasetShadow *' at 0x7fb546ccd120> >"
      ]
     },
     "execution_count": 211,
     "metadata": {},
     "output_type": "execute_result"
    }
   ],
   "source": [
    "src.ReadAsArray()"
   ]
  },
  {
   "cell_type": "code",
   "execution_count": null,
   "metadata": {},
   "outputs": [],
   "source": [
    "src_2019 = "
   ]
  }
 ],
 "metadata": {
  "kernelspec": {
   "display_name": "Python 3",
   "language": "python",
   "name": "python3"
  },
  "language_info": {
   "codemirror_mode": {
    "name": "ipython",
    "version": 3
   },
   "file_extension": ".py",
   "mimetype": "text/x-python",
   "name": "python",
   "nbconvert_exporter": "python",
   "pygments_lexer": "ipython3",
   "version": "3.6.11"
  }
 },
 "nbformat": 4,
 "nbformat_minor": 4
}
